{
 "cells": [
  {
   "cell_type": "code",
   "execution_count": 107,
   "metadata": {
    "ExecuteTime": {
     "end_time": "2019-04-04T13:02:58.644297Z",
     "start_time": "2019-04-04T13:02:58.639673Z"
    }
   },
   "outputs": [],
   "source": [
    "import numpy as np\n",
    "import cv2\n",
    "import matplotlib.pyplot as plt\n",
    "import pathlib\n",
    "import json\n",
    "import torch\n",
    "from PIL import Image"
   ]
  },
  {
   "cell_type": "code",
   "execution_count": 7,
   "metadata": {
    "ExecuteTime": {
     "end_time": "2019-04-04T09:13:46.938345Z",
     "start_time": "2019-04-04T09:13:46.933959Z"
    }
   },
   "outputs": [],
   "source": [
    "data_dir = pathlib.Path('../data/Cityscapes/gtFine/train/')"
   ]
  },
  {
   "cell_type": "code",
   "execution_count": 30,
   "metadata": {
    "ExecuteTime": {
     "end_time": "2019-04-04T09:24:20.821157Z",
     "start_time": "2019-04-04T09:24:20.816022Z"
    }
   },
   "outputs": [],
   "source": [
    "city_name = 'aachen'\n",
    "city_path = data_dir / city_name\n",
    "suffix = ['color.png', 'instanceIds.png', 'labelIds.png']"
   ]
  },
  {
   "cell_type": "code",
   "execution_count": 17,
   "metadata": {
    "ExecuteTime": {
     "end_time": "2019-04-04T09:17:53.231078Z",
     "start_time": "2019-04-04T09:17:53.222549Z"
    }
   },
   "outputs": [
    {
     "data": {
      "text/plain": [
       "[PosixPath('../data/Cityscapes/gtFine/train/aachen/aachen_000000_000019_gtFine_color.png')]"
      ]
     },
     "execution_count": 17,
     "metadata": {},
     "output_type": "execute_result"
    }
   ],
   "source": [
    "data_name = 'aachen_000000_000019_gtFine_'"
   ]
  },
  {
   "cell_type": "code",
   "execution_count": 21,
   "metadata": {
    "ExecuteTime": {
     "end_time": "2019-04-04T09:20:07.237443Z",
     "start_time": "2019-04-04T09:20:07.073396Z"
    }
   },
   "outputs": [],
   "source": [
    "path = city_path / (data_name + suffix[0])\n",
    "label_map = cv2.imread(str(path))"
   ]
  },
  {
   "cell_type": "code",
   "execution_count": 26,
   "metadata": {
    "ExecuteTime": {
     "end_time": "2019-04-04T09:22:53.530926Z",
     "start_time": "2019-04-04T09:22:53.192056Z"
    }
   },
   "outputs": [
    {
     "data": {
      "text/plain": [
       "<matplotlib.image.AxesImage at 0x7feed5434ba8>"
      ]
     },
     "execution_count": 26,
     "metadata": {},
     "output_type": "execute_result"
    },
    {
     "data": {
      "image/png": "[encoded data removed]",
      "text/plain": [
       "<Figure size 1080x504 with 1 Axes>"
      ]
     },
     "metadata": {
      "needs_background": "light"
     },
     "output_type": "display_data"
    }
   ],
   "source": [
    "fig, ax = plt.subplots(1, 1, figsize=(15, 7))\n",
    "ax.imshow(cv2.cvtColor(label_map, cv2.COLOR_BGR2RGB))"
   ]
  },
  {
   "cell_type": "code",
   "execution_count": 31,
   "metadata": {
    "ExecuteTime": {
     "end_time": "2019-04-04T09:24:24.126879Z",
     "start_time": "2019-04-04T09:24:24.104182Z"
    }
   },
   "outputs": [],
   "source": [
    "path = city_path / (data_name + suffix[2])\n",
    "label_map = cv2.imread(str(path))"
   ]
  },
  {
   "cell_type": "code",
   "execution_count": 32,
   "metadata": {
    "ExecuteTime": {
     "end_time": "2019-04-04T09:24:24.617251Z",
     "start_time": "2019-04-04T09:24:24.610481Z"
    }
   },
   "outputs": [
    {
     "data": {
      "text/plain": [
       "(1024, 2048, 3)"
      ]
     },
     "execution_count": 32,
     "metadata": {},
     "output_type": "execute_result"
    }
   ],
   "source": [
    "label_map.shape"
   ]
  },
  {
   "cell_type": "code",
   "execution_count": 33,
   "metadata": {
    "ExecuteTime": {
     "end_time": "2019-04-04T09:27:03.843908Z",
     "start_time": "2019-04-04T09:27:03.763934Z"
    }
   },
   "outputs": [
    {
     "data": {
      "text/plain": [
       "array([ 0,  1,  3,  4,  7,  8, 11, 17, 20, 21, 22, 23, 24, 25, 26, 33],\n",
       "      dtype=uint8)"
      ]
     },
     "execution_count": 33,
     "metadata": {},
     "output_type": "execute_result"
    }
   ],
   "source": [
    "np.unique(label_map)"
   ]
  },
  {
   "cell_type": "code",
   "execution_count": 35,
   "metadata": {
    "ExecuteTime": {
     "end_time": "2019-04-04T11:04:16.302693Z",
     "start_time": "2019-04-04T11:04:16.264305Z"
    }
   },
   "outputs": [
    {
     "data": {
      "text/plain": [
       "(1024, 2048, 3)"
      ]
     },
     "execution_count": 35,
     "metadata": {},
     "output_type": "execute_result"
    }
   ],
   "source": [
    "path = city_path / (data_name + suffix[1])\n",
    "inst_map = cv2.imread(str(path))\n",
    "inst_map.shape"
   ]
  },
  {
   "cell_type": "code",
   "execution_count": 36,
   "metadata": {
    "ExecuteTime": {
     "end_time": "2019-04-04T11:04:49.881948Z",
     "start_time": "2019-04-04T11:04:49.804585Z"
    }
   },
   "outputs": [
    {
     "data": {
      "text/plain": [
       "array([  0,  93,  97, 101, 128], dtype=uint8)"
      ]
     },
     "execution_count": 36,
     "metadata": {},
     "output_type": "execute_result"
    }
   ],
   "source": [
    "np.unique(inst_map)"
   ]
  },
  {
   "cell_type": "code",
   "execution_count": 41,
   "metadata": {
    "ExecuteTime": {
     "end_time": "2019-04-04T11:09:40.485186Z",
     "start_time": "2019-04-04T11:09:40.455071Z"
    }
   },
   "outputs": [
    {
     "data": {
      "text/plain": [
       "array([  0,  93,  97, 101, 128], dtype=uint8)"
      ]
     },
     "execution_count": 41,
     "metadata": {},
     "output_type": "execute_result"
    }
   ],
   "source": [
    "np.unique(inst_map[:,:,0])"
   ]
  },
  {
   "cell_type": "code",
   "execution_count": 42,
   "metadata": {
    "ExecuteTime": {
     "end_time": "2019-04-04T11:09:54.151509Z",
     "start_time": "2019-04-04T11:09:54.118596Z"
    }
   },
   "outputs": [
    {
     "data": {
      "text/plain": [
       "array([  0,  93,  97, 101, 128], dtype=uint8)"
      ]
     },
     "execution_count": 42,
     "metadata": {},
     "output_type": "execute_result"
    }
   ],
   "source": [
    "np.unique(inst_map[:,:,1])"
   ]
  },
  {
   "cell_type": "code",
   "execution_count": 43,
   "metadata": {
    "ExecuteTime": {
     "end_time": "2019-04-04T11:10:03.663382Z",
     "start_time": "2019-04-04T11:10:03.629571Z"
    }
   },
   "outputs": [
    {
     "data": {
      "text/plain": [
       "array([  0,  93,  97, 101, 128], dtype=uint8)"
      ]
     },
     "execution_count": 43,
     "metadata": {},
     "output_type": "execute_result"
    }
   ],
   "source": [
    "np.unique(inst_map[:,:,2])"
   ]
  },
  {
   "cell_type": "code",
   "execution_count": 57,
   "metadata": {
    "ExecuteTime": {
     "end_time": "2019-04-04T11:26:23.016209Z",
     "start_time": "2019-04-04T11:26:23.011169Z"
    }
   },
   "outputs": [],
   "source": [
    "hoge = inst_map[:,:,0]"
   ]
  },
  {
   "cell_type": "code",
   "execution_count": 58,
   "metadata": {
    "ExecuteTime": {
     "end_time": "2019-04-04T11:26:23.544345Z",
     "start_time": "2019-04-04T11:26:23.539512Z"
    }
   },
   "outputs": [],
   "source": [
    "hoge = np.expand_dims(hoge, axis=2)"
   ]
  },
  {
   "cell_type": "code",
   "execution_count": 59,
   "metadata": {
    "ExecuteTime": {
     "end_time": "2019-04-04T11:26:24.018013Z",
     "start_time": "2019-04-04T11:26:24.007275Z"
    }
   },
   "outputs": [],
   "source": [
    "from copy import deepcopy\n",
    "fuga = np.concatenate((hoge, deepcopy(hoge), deepcopy(hoge)), axis=2) "
   ]
  },
  {
   "cell_type": "code",
   "execution_count": 60,
   "metadata": {
    "ExecuteTime": {
     "end_time": "2019-04-04T11:26:24.631232Z",
     "start_time": "2019-04-04T11:26:24.621362Z"
    }
   },
   "outputs": [
    {
     "data": {
      "text/plain": [
       "True"
      ]
     },
     "execution_count": 60,
     "metadata": {},
     "output_type": "execute_result"
    }
   ],
   "source": [
    "np.array_equal(fuga, inst_map)"
   ]
  },
  {
   "cell_type": "code",
   "execution_count": 61,
   "metadata": {
    "ExecuteTime": {
     "end_time": "2019-04-04T11:28:17.989106Z",
     "start_time": "2019-04-04T11:28:17.981711Z"
    }
   },
   "outputs": [
    {
     "data": {
      "text/plain": [
       "array([[[0, 0, 0],\n",
       "        [0, 0, 0],\n",
       "        [0, 0, 0],\n",
       "        ...,\n",
       "        [0, 0, 0],\n",
       "        [0, 0, 0],\n",
       "        [0, 0, 0]],\n",
       "\n",
       "       [[0, 0, 0],\n",
       "        [0, 0, 0],\n",
       "        [0, 0, 0],\n",
       "        ...,\n",
       "        [0, 0, 0],\n",
       "        [0, 0, 0],\n",
       "        [0, 0, 0]],\n",
       "\n",
       "       [[0, 0, 0],\n",
       "        [0, 0, 0],\n",
       "        [0, 0, 0],\n",
       "        ...,\n",
       "        [0, 0, 0],\n",
       "        [0, 0, 0],\n",
       "        [0, 0, 0]],\n",
       "\n",
       "       ...,\n",
       "\n",
       "       [[0, 0, 0],\n",
       "        [0, 0, 0],\n",
       "        [0, 0, 0],\n",
       "        ...,\n",
       "        [0, 0, 0],\n",
       "        [0, 0, 0],\n",
       "        [0, 0, 0]],\n",
       "\n",
       "       [[0, 0, 0],\n",
       "        [0, 0, 0],\n",
       "        [0, 0, 0],\n",
       "        ...,\n",
       "        [0, 0, 0],\n",
       "        [0, 0, 0],\n",
       "        [0, 0, 0]],\n",
       "\n",
       "       [[0, 0, 0],\n",
       "        [0, 0, 0],\n",
       "        [0, 0, 0],\n",
       "        ...,\n",
       "        [0, 0, 0],\n",
       "        [0, 0, 0],\n",
       "        [0, 0, 0]]], dtype=uint8)"
      ]
     },
     "execution_count": 61,
     "metadata": {},
     "output_type": "execute_result"
    }
   ],
   "source": [
    "hoge = inst_map[:,:,0]\n",
    "for i in range(hoge.shape[0]):\n",
    "    for j in range(hoge.shape[1]):\n",
    "        "
   ]
  },
  {
   "cell_type": "code",
   "execution_count": 63,
   "metadata": {
    "ExecuteTime": {
     "end_time": "2019-04-04T11:42:09.390697Z",
     "start_time": "2019-04-04T11:42:09.383269Z"
    }
   },
   "outputs": [
    {
     "data": {
      "text/plain": [
       "array([[0, 1],\n",
       "       [3, 4],\n",
       "       [6, 7]])"
      ]
     },
     "execution_count": 63,
     "metadata": {},
     "output_type": "execute_result"
    }
   ],
   "source": [
    "heba = np.arange(9).reshape(3, 3)\n",
    "heba[:, :-1]"
   ]
  },
  {
   "cell_type": "code",
   "execution_count": 65,
   "metadata": {
    "ExecuteTime": {
     "end_time": "2019-04-04T11:43:29.045883Z",
     "start_time": "2019-04-04T11:43:29.039377Z"
    }
   },
   "outputs": [
    {
     "data": {
      "text/plain": [
       "array([[1, 2],\n",
       "       [4, 5],\n",
       "       [7, 8]])"
      ]
     },
     "execution_count": 65,
     "metadata": {},
     "output_type": "execute_result"
    }
   ],
   "source": [
    "heba[:, 1:]"
   ]
  },
  {
   "cell_type": "code",
   "execution_count": 66,
   "metadata": {
    "ExecuteTime": {
     "end_time": "2019-04-04T11:43:41.638386Z",
     "start_time": "2019-04-04T11:43:41.631728Z"
    }
   },
   "outputs": [
    {
     "data": {
      "text/plain": [
       "array([[0, 1, 2],\n",
       "       [3, 4, 5],\n",
       "       [6, 7, 8]])"
      ]
     },
     "execution_count": 66,
     "metadata": {},
     "output_type": "execute_result"
    }
   ],
   "source": [
    "heba"
   ]
  },
  {
   "cell_type": "code",
   "execution_count": 69,
   "metadata": {
    "ExecuteTime": {
     "end_time": "2019-04-04T11:44:35.202591Z",
     "start_time": "2019-04-04T11:44:35.197737Z"
    }
   },
   "outputs": [],
   "source": [
    "edge = np.zeros_like(heba)"
   ]
  },
  {
   "cell_type": "code",
   "execution_count": 70,
   "metadata": {
    "ExecuteTime": {
     "end_time": "2019-04-04T11:44:35.492337Z",
     "start_time": "2019-04-04T11:44:35.486068Z"
    }
   },
   "outputs": [
    {
     "data": {
      "text/plain": [
       "array([[0, 0],\n",
       "       [0, 0],\n",
       "       [0, 0]])"
      ]
     },
     "execution_count": 70,
     "metadata": {},
     "output_type": "execute_result"
    }
   ],
   "source": [
    "edge[:, 1:]"
   ]
  },
  {
   "cell_type": "code",
   "execution_count": 73,
   "metadata": {
    "ExecuteTime": {
     "end_time": "2019-04-04T11:45:57.249288Z",
     "start_time": "2019-04-04T11:45:57.237268Z"
    }
   },
   "outputs": [
    {
     "data": {
      "text/plain": [
       "1715"
      ]
     },
     "execution_count": 73,
     "metadata": {},
     "output_type": "execute_result"
    }
   ],
   "source": [
    "(hoge[:,1:] != hoge[:, :-1])"
   ]
  },
  {
   "cell_type": "code",
   "execution_count": 77,
   "metadata": {
    "ExecuteTime": {
     "end_time": "2019-04-04T11:47:37.832415Z",
     "start_time": "2019-04-04T11:47:37.810030Z"
    }
   },
   "outputs": [],
   "source": [
    "hoge = inst_map[:,:,0]\n",
    "edge = np.zeros_like(hoge)\n",
    "edge[:,1:] = np.logical_or(edge[:, 1:] , (hoge[:,1:] != hoge[:, :-1]))\n",
    "edge[:,:-1] = np.logical_or(edge[:, :-1] , (hoge[:,1:] != hoge[:, :-1]))\n",
    "edge[1:,:] = np.logical_or(edge[1:, :] , (hoge[1:,:] != hoge[:-1, :]))\n",
    "edge[:-1,:] = np.logical_or(edge[:-1, :] , (hoge[1:,:] != hoge[:-1, :]))"
   ]
  },
  {
   "cell_type": "code",
   "execution_count": 79,
   "metadata": {
    "ExecuteTime": {
     "end_time": "2019-04-04T11:48:32.207709Z",
     "start_time": "2019-04-04T11:48:31.902852Z"
    }
   },
   "outputs": [
    {
     "data": {
      "text/plain": [
       "<matplotlib.image.AxesImage at 0x7feec8a9b748>"
      ]
     },
     "execution_count": 79,
     "metadata": {},
     "output_type": "execute_result"
    },
    {
     "data": {
      "image/png": "[encoded data removed]",
      "text/plain": [
       "<Figure size 1080x504 with 1 Axes>"
      ]
     },
     "metadata": {
      "needs_background": "light"
     },
     "output_type": "display_data"
    }
   ],
   "source": [
    "fig, ax = plt.subplots(1, 1, figsize=(15, 7))\n",
    "ax.imshow(edge)"
   ]
  },
  {
   "cell_type": "code",
   "execution_count": 100,
   "metadata": {
    "ExecuteTime": {
     "end_time": "2019-04-04T12:52:47.046007Z",
     "start_time": "2019-04-04T12:52:47.032198Z"
    }
   },
   "outputs": [],
   "source": [
    "def get_edges(t):\n",
    "    edge = torch.ByteTensor(t.size()).zero_()\n",
    "    edge[:, :, :, 1:] = edge[:, :, :, 1:] | (t[:, :, :, 1:] != t[:, :, :, :-1])\n",
    "    edge[:, :, :, :-1] = edge[:, :, :, :-1] | (t[:, :, :, 1:] !=\n",
    "                                               t[:, :, :, :-1])\n",
    "    edge[:, :, 1:, :] = edge[:, :, 1:, :] | (t[:, :, 1:, :] != t[:, :, :-1, :])\n",
    "    edge[:, :, :-1, :] = edge[:, :, :-1, :] | (t[:, :, 1:, :] !=\n",
    "                                               t[:, :, :-1, :])\n",
    "    return edge.float()"
   ]
  },
  {
   "cell_type": "code",
   "execution_count": 85,
   "metadata": {
    "ExecuteTime": {
     "end_time": "2019-04-04T12:49:09.222534Z",
     "start_time": "2019-04-04T12:49:09.215819Z"
    }
   },
   "outputs": [
    {
     "data": {
      "text/plain": [
       "(1024, 2048)"
      ]
     },
     "execution_count": 85,
     "metadata": {},
     "output_type": "execute_result"
    }
   ],
   "source": [
    "hoge.shape"
   ]
  },
  {
   "cell_type": "code",
   "execution_count": 87,
   "metadata": {
    "ExecuteTime": {
     "end_time": "2019-04-04T12:49:41.014833Z",
     "start_time": "2019-04-04T12:49:41.003308Z"
    }
   },
   "outputs": [],
   "source": [
    "t = torch.tensor(hoge)"
   ]
  },
  {
   "cell_type": "code",
   "execution_count": 88,
   "metadata": {
    "ExecuteTime": {
     "end_time": "2019-04-04T12:49:44.017765Z",
     "start_time": "2019-04-04T12:49:44.011053Z"
    }
   },
   "outputs": [
    {
     "data": {
      "text/plain": [
       "torch.Size([1024, 2048])"
      ]
     },
     "execution_count": 88,
     "metadata": {},
     "output_type": "execute_result"
    }
   ],
   "source": [
    "t.shape"
   ]
  },
  {
   "cell_type": "code",
   "execution_count": 92,
   "metadata": {
    "ExecuteTime": {
     "end_time": "2019-04-04T12:51:18.619111Z",
     "start_time": "2019-04-04T12:51:18.614152Z"
    }
   },
   "outputs": [],
   "source": [
    "t = t.expand(1, 1, 1024, 2048)"
   ]
  },
  {
   "cell_type": "code",
   "execution_count": 101,
   "metadata": {
    "ExecuteTime": {
     "end_time": "2019-04-04T12:52:49.981040Z",
     "start_time": "2019-04-04T12:52:49.878909Z"
    }
   },
   "outputs": [],
   "source": [
    "edge = get_edges(t)"
   ]
  },
  {
   "cell_type": "code",
   "execution_count": 103,
   "metadata": {
    "ExecuteTime": {
     "end_time": "2019-04-04T12:53:00.545364Z",
     "start_time": "2019-04-04T12:53:00.538676Z"
    }
   },
   "outputs": [
    {
     "data": {
      "text/plain": [
       "torch.Size([1, 1, 1024, 2048])"
      ]
     },
     "execution_count": 103,
     "metadata": {},
     "output_type": "execute_result"
    }
   ],
   "source": [
    "edge.size()"
   ]
  },
  {
   "cell_type": "code",
   "execution_count": 105,
   "metadata": {
    "ExecuteTime": {
     "end_time": "2019-04-04T12:53:26.510201Z",
     "start_time": "2019-04-04T12:53:26.505231Z"
    }
   },
   "outputs": [],
   "source": [
    "a = edge.squeeze().numpy()"
   ]
  },
  {
   "cell_type": "code",
   "execution_count": 106,
   "metadata": {
    "ExecuteTime": {
     "end_time": "2019-04-04T12:53:37.581520Z",
     "start_time": "2019-04-04T12:53:37.384603Z"
    }
   },
   "outputs": [
    {
     "data": {
      "text/plain": [
       "<matplotlib.image.AxesImage at 0x7feec85ca860>"
      ]
     },
     "execution_count": 106,
     "metadata": {},
     "output_type": "execute_result"
    },
    {
     "data": {
      "image/png": "[encoded data removed]",
      "text/plain": [
       "<Figure size 432x288 with 1 Axes>"
      ]
     },
     "metadata": {
      "needs_background": "light"
     },
     "output_type": "display_data"
    }
   ],
   "source": [
    "plt.imshow(a)"
   ]
  },
  {
   "cell_type": "code",
   "execution_count": 112,
   "metadata": {
    "ExecuteTime": {
     "end_time": "2019-04-04T13:04:58.820606Z",
     "start_time": "2019-04-04T13:04:58.812904Z"
    }
   },
   "outputs": [
    {
     "data": {
      "text/plain": [
       "PosixPath('../data/Cityscapes/gtFine/train/aachen/aachen_000000_000019_gtFine_instanceIds.png')"
      ]
     },
     "execution_count": 112,
     "metadata": {},
     "output_type": "execute_result"
    }
   ],
   "source": [
    "path = city_path / (data_name + suffix[1])\n",
    "path"
   ]
  },
  {
   "cell_type": "code",
   "execution_count": 115,
   "metadata": {
    "ExecuteTime": {
     "end_time": "2019-04-04T13:08:02.579341Z",
     "start_time": "2019-04-04T13:08:02.508495Z"
    }
   },
   "outputs": [
    {
     "data": {
      "text/plain": [
       "array([    0,     1,     3,     4,     7,     8,    11,    17,    20,\n",
       "          21,    22,    23, 24000, 24001, 25000, 26003, 26004, 26005,\n",
       "       26006, 26007, 26008, 26009, 26010, 33000, 33001], dtype=int32)"
      ]
     },
     "execution_count": 115,
     "metadata": {},
     "output_type": "execute_result"
    }
   ],
   "source": [
    "x = np.array(Image.open(str(path)))\n",
    "np.unique(x)"
   ]
  },
  {
   "cell_type": "code",
   "execution_count": 116,
   "metadata": {
    "ExecuteTime": {
     "end_time": "2019-04-04T13:08:08.500437Z",
     "start_time": "2019-04-04T13:08:08.397854Z"
    }
   },
   "outputs": [
    {
     "data": {
      "text/plain": [
       "array([  0,  93,  97, 101, 128], dtype=uint8)"
      ]
     },
     "execution_count": 116,
     "metadata": {},
     "output_type": "execute_result"
    }
   ],
   "source": [
    "y = cv2.imread(str(path))\n",
    "np.unique(y)"
   ]
  },
  {
   "cell_type": "code",
   "execution_count": 117,
   "metadata": {
    "ExecuteTime": {
     "end_time": "2019-04-04T13:08:58.947540Z",
     "start_time": "2019-04-04T13:08:58.333695Z"
    }
   },
   "outputs": [
    {
     "data": {
      "text/plain": [
       "<matplotlib.image.AxesImage at 0x7feec8a7bf98>"
      ]
     },
     "execution_count": 117,
     "metadata": {},
     "output_type": "execute_result"
    },
    {
     "data": {
      "image/png": "[encoded data removed]",
      "text/plain": [
       "<Figure size 1728x864 with 2 Axes>"
      ]
     },
     "metadata": {
      "needs_background": "light"
     },
     "output_type": "display_data"
    }
   ],
   "source": [
    "fig, ax = plt.subplots(1, 2, figsize=(24, 12))\n",
    "ax[0].imshow(x)\n",
    "ax[1].imshow(y)"
   ]
  },
  {
   "cell_type": "code",
   "execution_count": 129,
   "metadata": {
    "ExecuteTime": {
     "end_time": "2019-04-04T13:19:40.617646Z",
     "start_time": "2019-04-04T13:19:40.610979Z"
    }
   },
   "outputs": [
    {
     "data": {
      "text/plain": [
       "(1024, 2048)"
      ]
     },
     "execution_count": 129,
     "metadata": {},
     "output_type": "execute_result"
    }
   ],
   "source": [
    "x.shape"
   ]
  },
  {
   "cell_type": "code",
   "execution_count": 130,
   "metadata": {
    "ExecuteTime": {
     "end_time": "2019-04-04T13:19:46.505076Z",
     "start_time": "2019-04-04T13:19:46.223958Z"
    }
   },
   "outputs": [
    {
     "data": {
      "text/plain": [
       "<matplotlib.image.AxesImage at 0x7fee34235550>"
      ]
     },
     "execution_count": 130,
     "metadata": {},
     "output_type": "execute_result"
    },
    {
     "data": {
      "image/png": "[encoded data removed]",
      "text/plain": [
       "<Figure size 432x288 with 1 Axes>"
      ]
     },
     "metadata": {
      "needs_background": "light"
     },
     "output_type": "display_data"
    }
   ],
   "source": [
    "t = torch.tensor(x).expand(1,1,1024,2048)\n",
    "edge_map = get_edges(t)\n",
    "plt.imshow(edge_map.squeeze().numpy())"
   ]
  },
  {
   "cell_type": "code",
   "execution_count": 123,
   "metadata": {
    "ExecuteTime": {
     "end_time": "2019-04-04T13:18:39.489194Z",
     "start_time": "2019-04-04T13:18:39.456340Z"
    }
   },
   "outputs": [
    {
     "data": {
      "text/plain": [
       "array([  0,  93,  97, 101, 128], dtype=uint8)"
      ]
     },
     "execution_count": 123,
     "metadata": {},
     "output_type": "execute_result"
    }
   ],
   "source": [
    "np.unique(t.numpy())"
   ]
  },
  {
   "cell_type": "code",
   "execution_count": 124,
   "metadata": {
    "ExecuteTime": {
     "end_time": "2019-04-04T13:19:00.269792Z",
     "start_time": "2019-04-04T13:19:00.238583Z"
    }
   },
   "outputs": [
    {
     "data": {
      "text/plain": [
       "array([  0,  93,  97, 101, 128], dtype=uint8)"
      ]
     },
     "execution_count": 124,
     "metadata": {},
     "output_type": "execute_result"
    }
   ],
   "source": [
    "np.unique(y[:,:,0])"
   ]
  },
  {
   "cell_type": "code",
   "execution_count": 125,
   "metadata": {
    "ExecuteTime": {
     "end_time": "2019-04-04T13:19:09.064824Z",
     "start_time": "2019-04-04T13:19:09.032731Z"
    }
   },
   "outputs": [
    {
     "data": {
      "text/plain": [
       "array([  0,  93,  97, 101, 128], dtype=uint8)"
      ]
     },
     "execution_count": 125,
     "metadata": {},
     "output_type": "execute_result"
    }
   ],
   "source": [
    "np.unique(y[:,:,1])"
   ]
  },
  {
   "cell_type": "code",
   "execution_count": 126,
   "metadata": {
    "ExecuteTime": {
     "end_time": "2019-04-04T13:19:14.344377Z",
     "start_time": "2019-04-04T13:19:14.311443Z"
    }
   },
   "outputs": [
    {
     "data": {
      "text/plain": [
       "array([  0,  93,  97, 101, 128], dtype=uint8)"
      ]
     },
     "execution_count": 126,
     "metadata": {},
     "output_type": "execute_result"
    }
   ],
   "source": [
    "np.unique(y[:,:,2])"
   ]
  },
  {
   "cell_type": "code",
   "execution_count": 127,
   "metadata": {
    "ExecuteTime": {
     "end_time": "2019-04-04T13:19:20.019510Z",
     "start_time": "2019-04-04T13:19:19.947424Z"
    }
   },
   "outputs": [
    {
     "data": {
      "text/plain": [
       "array([  0,  93,  97, 101, 128], dtype=uint8)"
      ]
     },
     "execution_count": 127,
     "metadata": {},
     "output_type": "execute_result"
    }
   ],
   "source": [
    "np.unique(y[:,:,:])"
   ]
  },
  {
   "cell_type": "code",
   "execution_count": null,
   "metadata": {},
   "outputs": [],
   "source": []
  }
 ],
 "metadata": {
  "kernelspec": {
   "display_name": "Python 3",
   "language": "python",
   "name": "python3"
  },
  "language_info": {
   "codemirror_mode": {
    "name": "ipython",
    "version": 3
   },
   "file_extension": ".py",
   "mimetype": "text/x-python",
   "name": "python",
   "nbconvert_exporter": "python",
   "pygments_lexer": "ipython3",
   "version": "3.6.5"
  },
  "toc": {
   "base_numbering": 1,
   "nav_menu": {},
   "number_sections": true,
   "sideBar": true,
   "skip_h1_title": false,
   "title_cell": "Table of Contents",
   "title_sidebar": "Contents",
   "toc_cell": false,
   "toc_position": {},
   "toc_section_display": true,
   "toc_window_display": false
  }
 },
 "nbformat": 4,
 "nbformat_minor": 2
}
